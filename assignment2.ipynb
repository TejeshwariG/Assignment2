{
 "cells": [
  {
   "cell_type": "markdown",
   "metadata": {},
   "source": [
    "# Assignment 2"
   ]
  },
  {
   "cell_type": "markdown",
   "metadata": {},
   "source": [
    "# TASK1"
   ]
  },
  {
   "cell_type": "markdown",
   "metadata": {},
   "source": [
    "\n",
    "1.1 Write a Python Program to implement your own myreduce() function which works exactly like Python's built-in function reduce()."
   ]
  },
  {
   "cell_type": "code",
   "execution_count": 3,
   "metadata": {},
   "outputs": [
    {
     "name": "stdout",
     "output_type": "stream",
     "text": [
      "8\n"
     ]
    }
   ],
   "source": [
    "def myreduce(fun,lst):\n",
    "    result=lst[0]\n",
    "    for element in lst[1:]:\n",
    "        result=fun(result,element)\n",
    "    return result\n",
    "lst=[1,2,3,4,5,6,7,8]\n",
    "fun=max\n",
    "print(myreduce(fun,lst))      "
   ]
  },
  {
   "cell_type": "markdown",
   "metadata": {},
   "source": [
    "1.2 Write a Python program to implement your own myfilter() function which works exactly like Python's built-in function filter()."
   ]
  },
  {
   "cell_type": "code",
   "execution_count": 13,
   "metadata": {},
   "outputs": [
    {
     "name": "stdout",
     "output_type": "stream",
     "text": [
      "[0, 1, 2, 3, 4, 5, 6, 7, 8, 9]\n"
     ]
    }
   ],
   "source": [
    "def myfilter(fun,lst):\n",
    "    result=[]\n",
    "    for element in lst:\n",
    "        if fun(element):\n",
    "            result.append(element)\n",
    "    return result\n",
    "fun=lambda x: x+2\n",
    "lst=range(10)\n",
    "print(myfilter(fun,lst))\n",
    "    "
   ]
  },
  {
   "cell_type": "markdown",
   "metadata": {},
   "source": [
    "2.Implement List comprehensions to produce the following lists. Write List comprehensions to produce the following Lists\n",
    "\n",
    "['A', 'C', 'A', 'D', 'G', 'I', ’L’, ‘ D’]\n",
    "\n",
    "['x', 'xx', 'xxx', 'xxxx', 'y', 'yy', 'yyy', 'yyyy', 'z', 'zz', 'zzz', 'zzzz']\n",
    "\n",
    "['x', 'y', 'z', 'xx', 'yy', 'zz', 'xx', 'yy', 'zz', 'xxxx', 'yyyy', 'zzzz']\n",
    "\n",
    "[[2], [3], [4], [3], [4], [5], [4], [5], [6]]\n",
    "\n",
    "[[2, 3, 4, 5], [3, 4, 5, 6], [4, 5, 6, 7], [5, 6, 7, 8]]\n",
    "\n",
    "[(1, 1), (2, 1), (3, 1), (1, 2), (2, 2), (3, 2), (1, 3), (2, 3), (3, 3)]"
   ]
  },
  {
   "cell_type": "code",
   "execution_count": 14,
   "metadata": {},
   "outputs": [
    {
     "name": "stdout",
     "output_type": "stream",
     "text": [
      "['A', 'C', 'A', 'D', 'G', 'I', 'L', 'D']\n",
      "['x', 'xx', 'xxx', 'xxxx', 'y', 'yy', 'yyy', 'yyyy', 'z', 'zz', 'zzz', 'zzzz']\n",
      "['x', 'y', 'z', 'xx', 'yy', 'zz', 'xxx', 'yyy', 'zzz', 'xxxx', 'yyyy', 'zzzz']\n",
      "[[2], [3], [4], [3], [4], [5], [4], [5], [6]]\n",
      "[[2, 3, 4, 5], [3, 4, 5, 6], [4, 5, 6, 7], [5, 6, 7, 8]]\n",
      "[(1, 1), (2, 1), (3, 1), (1, 2), (2, 2), (3, 2), (1, 3), (2, 3), (3, 3)]\n"
     ]
    }
   ],
   "source": [
    "inputText = \"ACADGILD\"\n",
    "l1 = [x for x in inputText]\n",
    "print(l1)\n",
    "inputText = 'xyz'\n",
    "l2 = [x*i for x in inputText for i in range(1,5) ]\n",
    "print(l2)\n",
    "inputText = 'xyz'\n",
    "l3 = [x*i for i in range(1,5) for x in inputText]\n",
    "print(l3)\n",
    "l4 =[[x+i] for x in range(1,4) for i in range(1,4)]\n",
    "print(l4)\n",
    "l5 = [[x,x+1,x+2,x+3] for x in range(2,6)]\n",
    "print(l5)\n",
    "l6 = [(x,y) for y in range(1,4) for x in range(1,4)]\n",
    "print(l6)"
   ]
  },
  {
   "cell_type": "markdown",
   "metadata": {},
   "source": [
    "3.Implement a function longestWord() that takes a list of words and returns the longest one."
   ]
  },
  {
   "cell_type": "code",
   "execution_count": 34,
   "metadata": {},
   "outputs": [
    {
     "name": "stdout",
     "output_type": "stream",
     "text": [
      "The longest words of entered string is opportunity\n"
     ]
    }
   ],
   "source": [
    "import string\n",
    "def longestWord(userInput):\n",
    "    userInput=userInput.split()\n",
    "    #userInput.split()\n",
    "    dictLengths={}\n",
    "    for word in userInput:\n",
    "        word=word.rstrip(string.punctuation)\n",
    "        if dictLengths.get(len(word),0)==0:\n",
    "            dictLengths[len(word)]=[word]\n",
    "        else:\n",
    "            dictLengths[len(word)].append(word)\n",
    "    return dictLengths[max(dictLengths.keys())]\n",
    "userInput = \"In a deeply personal, honest, and candid interview, Mr. Ratan Tata reveals what defines him as a person; his dreams for an equal opportunity India; and his advice for the young generation of aspiring Indians who look up to the Chairman Emeritus of Tata Sons and Chairman of the Tata Trusts.\"\n",
    "print(\"The longest words of entered string is\",*longestWord(userInput),sep=\" \")\n",
    "    "
   ]
  },
  {
   "cell_type": "markdown",
   "metadata": {},
   "source": [
    "# TASK 2"
   ]
  },
  {
   "cell_type": "markdown",
   "metadata": {},
   "source": [
    "1.1 Write a Python Program(with class concepts) to find the area of the triangle using the below formula.\n",
    "\n",
    "area = (s(s-a)(s-b)(s-c)) * 0.5\n",
    "\n",
    "Function to take the length of the sides of triangle from user should be defined in the parent class and function to calculate the area should be defined in subclass."
   ]
  },
  {
   "cell_type": "code",
   "execution_count": 30,
   "metadata": {},
   "outputs": [
    {
     "name": "stdout",
     "output_type": "stream",
     "text": [
      "Area of the triangle with sides 3, 4 and 5 is: 6.0\n"
     ]
    }
   ],
   "source": [
    "class Triangle(object):\n",
    "    def __init__(self, a, b, c):\n",
    "        \n",
    "        self.a = a\n",
    "        self.b = b\n",
    "        self.c = c\n",
    "        self.area = Triangle.findArea(self)\n",
    "    \n",
    "    def getA(self):\n",
    "        \n",
    "        return self.a\n",
    "    \n",
    "    def getB(self):\n",
    "        \n",
    "        return self.b\n",
    "    def getC(self):\n",
    "       \n",
    "        return self.c\n",
    "    \n",
    "    def getArea(self):\n",
    "       \n",
    "        return self.area\n",
    "    \n",
    "    def setA(self, a):\n",
    "        \n",
    "        self.a = a\n",
    "        \n",
    "    def setB(self, b):\n",
    "        \n",
    "        self.b = b\n",
    "        \n",
    "    def setC(self, c):\n",
    "        \n",
    "        self.c = c\n",
    "        \n",
    "    def findArea(self):\n",
    "        \n",
    "        s = (self.getA() + self.getB() + self.getC())/2\n",
    "        return  (s*(s-a)*(s-b)*(s-c)) ** 0.5\n",
    "        \n",
    "\n",
    "a = 3\n",
    "b = 4\n",
    "c = 5\n",
    "\n",
    "triangle1 = Triangle(a,b,c)\n",
    "print(f\"Area of the triangle with sides {a}, {b} and {c} is:\",triangle1.getArea())\n",
    "        \n",
    "    "
   ]
  },
  {
   "cell_type": "markdown",
   "metadata": {},
   "source": [
    "1.2 Write a function filter_long_words() that takes a list of words and an integer n and returns the list of words that are longer than n."
   ]
  },
  {
   "cell_type": "code",
   "execution_count": 37,
   "metadata": {},
   "outputs": [
    {
     "name": "stdout",
     "output_type": "stream",
     "text": [
      "Words greater than length 4 are:\n",
      "\n",
      "deeply, personal, honest, candid, interview, Ratan, reveals, defines, person, dreams, equal, opportunity, India, advice, young, generation, aspiring, Indians, Chairman, Emeritus, Chairman, Trusts."
     ]
    }
   ],
   "source": [
    "import string\n",
    "\n",
    "def filter_long_words(userInput, n):\n",
    "    outWords = []\n",
    "    for word in userInput.split():\n",
    "        word = word.rstrip(string.punctuation)\n",
    "        if len(word) > n:\n",
    "            outWords.append(word)\n",
    "    return outWords\n",
    "userInput = \"In a deeply personal, honest, and candid interview, Mr. Ratan Tata reveals what defines him as a person; his dreams for an equal opportunity India; and his advice for the young generation of aspiring Indians who look up to the Chairman Emeritus of Tata Sons and Chairman of the Tata Trusts.\"\n",
    "n = 4\n",
    "print(f\"Words greater than length {n} are:\\n\")\n",
    "print(*filter_long_words(userInput, n), sep=\", \", end =\".\")\n",
    "\n",
    "    "
   ]
  },
  {
   "cell_type": "markdown",
   "metadata": {},
   "source": [
    "2.1 Write a Python program using function concept that maps list of words into a list of integers representing the lengths of the corresponding words​.\n",
    "\n",
    "Hint: ​If a list [ ab,cde,erty] is passed on to the python function output should come as [2,3,4]\n",
    "\n",
    "Here 2,3 and 4 are the lengths of the words in the list."
   ]
  },
  {
   "cell_type": "code",
   "execution_count": 38,
   "metadata": {},
   "outputs": [
    {
     "name": "stdout",
     "output_type": "stream",
     "text": [
      "[2, 3, 4]\n"
     ]
    }
   ],
   "source": [
    "def wordLength(userList):\n",
    "    return list(map(len,userInput))\n",
    "userInput=[\"ab\",\"cde\",\"erty\"]\n",
    "print(wordLength(userInput))\n"
   ]
  },
  {
   "cell_type": "markdown",
   "metadata": {},
   "source": [
    "2.2 Write a Python function which takes a character (i.e. a string of length 1) and returns True if it is a vowel, False otherwise."
   ]
  },
  {
   "cell_type": "code",
   "execution_count": null,
   "metadata": {},
   "outputs": [],
   "source": [
    "def isVowel(character):\n",
    "    vowels = \"aeiou\"\n",
    "\n",
    "    try:\n",
    "        userInput = character\n",
    "        if len(userInput) > 1 or not userInput.isalpha():\n",
    "            raise\n",
    "        if userInput.lower() in vowels:\n",
    "            return True\n",
    "        else:\n",
    "            return False\n",
    "    except:\n",
    "        return f\"{userInput} is not a single character, please try again.\"\n",
    "    \n",
    "print(isVowel(input(\"Enter a character: \")))\n",
    "    "
   ]
  },
  {
   "cell_type": "code",
   "execution_count": null,
   "metadata": {},
   "outputs": [],
   "source": []
  }
 ],
 "metadata": {
  "kernelspec": {
   "display_name": "Python 3",
   "language": "python",
   "name": "python3"
  },
  "language_info": {
   "codemirror_mode": {
    "name": "ipython",
    "version": 3
   },
   "file_extension": ".py",
   "mimetype": "text/x-python",
   "name": "python",
   "nbconvert_exporter": "python",
   "pygments_lexer": "ipython3",
   "version": "3.7.3"
  }
 },
 "nbformat": 4,
 "nbformat_minor": 2
}
